{
 "nbformat": 4,
 "nbformat_minor": 0,
 "metadata": {
  "colab": {
   "provenance": [],
   "gpuType": "T4"
  },
  "kernelspec": {
   "name": "python3",
   "display_name": "Python 3"
  },
  "language_info": {
   "name": "python"
  },
  "accelerator": "GPU"
 },
 "cells": [
  {
   "metadata": {},
   "cell_type": "code",
   "outputs": [],
   "execution_count": null,
   "source": ""
  },
  {
   "cell_type": "code",
   "execution_count": 2,
   "metadata": {
    "colab": {
     "base_uri": "https://localhost:8080/"
    },
    "id": "O-wOlHMCDLSb",
    "outputId": "04f9f31e-fb8b-4b10-972e-6acedc1cce32"
   },
   "outputs": [
    {
     "output_type": "stream",
     "name": "stdout",
     "text": [
      "Drive already mounted at /content/drive; to attempt to forcibly remount, call drive.mount(\"/content/drive\", force_remount=True).\n"
     ]
    }
   ],
   "source": [
    "from google.colab import drive\n",
    "drive.mount('/content/drive')"
   ]
  },
  {
   "cell_type": "code",
   "source": [
    "!pip install prettytable"
   ],
   "metadata": {
    "colab": {
     "base_uri": "https://localhost:8080/"
    },
    "id": "6hcCeZx7Iy45",
    "outputId": "1909924d-e830-48e3-87ec-c8eb54291b97"
   },
   "execution_count": null,
   "outputs": [
    {
     "output_type": "stream",
     "name": "stdout",
     "text": [
      "Requirement already satisfied: prettytable in /usr/local/lib/python3.10/dist-packages (3.11.0)\n",
      "Requirement already satisfied: wcwidth in /usr/local/lib/python3.10/dist-packages (from prettytable) (0.2.13)\n"
     ]
    }
   ]
  },
  {
   "cell_type": "code",
   "source": [
    "import pandas as pd\n",
    "import spacy\n",
    "import nltk\n",
    "from nltk.corpus import stopwords\n",
    "from sklearn.feature_extraction.text import TfidfVectorizer\n",
    "from prettytable import PrettyTable"
   ],
   "metadata": {
    "id": "Ta6qZFV7DMFR"
   },
   "execution_count": 3,
   "outputs": []
  },
  {
   "cell_type": "code",
   "source": [
    "def dataframe_to_prettytable(df):\n",
    "    table = PrettyTable()\n",
    "    table.field_names = df.columns.tolist()\n",
    "    for index, row in df.iterrows():\n",
    "        table.add_row(row.tolist())\n",
    "    return table"
   ],
   "metadata": {
    "id": "2kq_lHezJgBd"
   },
   "execution_count": 4,
   "outputs": []
  },
  {
   "cell_type": "code",
   "source": [
    "# Upload file\n",
    "users_df = pd.read_csv('/content/drive/MyDrive/recommendation_system/data/users.csv')\n",
    "\n",
    "# Read file\n",
    "pretty_table = dataframe_to_prettytable(users_df.head())\n",
    "print(pretty_table)"
   ],
   "metadata": {
    "colab": {
     "base_uri": "https://localhost:8080/"
    },
    "id": "ZltarLv7EB7q",
    "outputId": "0b3a8db6-b02e-45f9-e068-f80f054f59af"
   },
   "execution_count": 5,
   "outputs": [
    {
     "output_type": "stream",
     "name": "stdout",
     "text": [
      "+----------------+----+------------------------------------------------------------------------------------------+-------------------+--------------------------------------+-----------------+-------------------+------------------+---------------------------+------------------+-----------------+---------------------+--------------------------+--------------------------+---------------+-------------------------+\n",
      "|     model      | pk |                                     fields.password                                      | fields.last_login |           fields.public_id           | fields.username | fields.first_name | fields.last_name |        fields.email       | fields.is_active | fields.is_staff | fields.is_superuser |      fields.created      |      fields.updated      | fields.groups | fields.user_permissions |\n",
      "+----------------+----+------------------------------------------------------------------------------------------+-------------------+--------------------------------------+-----------------+-------------------+------------------+---------------------------+------------------+-----------------+---------------------+--------------------------+--------------------------+---------------+-------------------------+\n",
      "| core_user.user | 1  | pbkdf2_sha256$870000$O0c8jmrH9PAQhghcJSCDIa$wIXQsoPRQ4/AJAeRxARC//24S2XrFrsn58Oi0BAlNDY= |        nan        | 04501d42-c480-447a-816a-401d2c5a4e44 |       test      |        nan        |       nan        |       test@test.com       |       True       |       True      |         True        | 2024-08-30T14:17:30.584Z | 2024-08-30T14:17:30.592Z |       []      |            []           |\n",
      "| core_user.user | 2  | pbkdf2_sha256$870000$2KVTlx3RCSH2fMq8yPolHe$bVCXoliQYLYpqmgIFbYq+CiDfyLHWkxdoVTJKrZ5oy4= |        nan        | bd3581a6-c817-489f-a343-f3d7a20b9679 |     johndoe     |        John       |       Doe        |     johndoe@gmail.com     |       True       |      False      |        False        | 2024-08-30T14:22:59.382Z | 2024-08-30T14:22:59.382Z |       []      |            []           |\n",
      "| core_user.user | 3  | pbkdf2_sha256$870000$1fy61bNiZP4AqbPsEcVW6X$9g8U2qbuzWwpXDYavRZs/ApNUY2GR7sUTW9qXcPLmb4= |        nan        | a722c9ea-db8e-4497-a382-ebc8ed68f62f | atabekdemurtaza |       Atabek      |    Murtazaev     | atabekdemurtaza@gmail.com |       True       |      False      |        False        | 2024-09-01T10:30:02.614Z | 2024-09-01T10:30:02.614Z |       []      |            []           |\n",
      "| core_user.user | 4  | pbkdf2_sha256$870000$87tkz6FVYPNStyyWLI6vXS$91UWc9/va3Mzh72eOAYKXPCX3hr2ifGqGOof1XpOdls= |        nan        | abda807b-88f9-4ffa-8a1d-a91f8470b9c0 |     sherzad     |        nan        |       nan        | sherzadyuldashev@test.com |       True       |      False      |        False        | 2024-09-01T10:55:25.697Z | 2024-09-01T10:55:25.697Z |       []      |            []           |\n",
      "| core_user.user | 5  | pbkdf2_sha256$870000$vPzOqAWrA1jRQwZhbpVJRE$uSoJwoUuEWfgvAwdDSfO93NOuaecKFDyU7G8JzjiJ1I= |        nan        | 84214d71-4446-431f-9059-f3e19ef9d958 |      anvar      |        nan        |       nan        |       anvar@test.com      |       True       |      False      |        False        | 2024-09-01T10:55:25.954Z | 2024-09-01T10:55:25.954Z |       []      |            []           |\n",
      "+----------------+----+------------------------------------------------------------------------------------------+-------------------+--------------------------------------+-----------------+-------------------+------------------+---------------------------+------------------+-----------------+---------------------+--------------------------+--------------------------+---------------+-------------------------+\n"
     ]
    }
   ]
  },
  {
   "cell_type": "code",
   "source": [
    "# Upload file\n",
    "products_df = pd.read_csv('/content/drive/MyDrive/recommendation_system/data/products.csv')\n",
    "\n",
    "# Read file\n",
    "pretty_table = dataframe_to_prettytable(products_df.head())\n",
    "print(pretty_table)"
   ],
   "metadata": {
    "colab": {
     "base_uri": "https://localhost:8080/"
    },
    "id": "SumtlJgHEM9_",
    "outputId": "4f76eb49-708d-4645-ce14-71e187e9a571"
   },
   "execution_count": 6,
   "outputs": [
    {
     "output_type": "stream",
     "name": "stdout",
     "text": [
      "+----------------------+----+--------------------------------------+--------------------------+--------------------------+---------------+-------------------------------+----------------------------------------+--------------+---------------+\n",
      "|        model         | pk |           fields.public_id           |      fields.created      |      fields.updated      | fields.author |          fields.name          |           fields.description           | fields.price | fields.edited |\n",
      "+----------------------+----+--------------------------------------+--------------------------+--------------------------+---------------+-------------------------------+----------------------------------------+--------------+---------------+\n",
      "| core_product.product | 1  | 03f527a4-14d9-4598-800b-003c1c9f20fb | 2024-08-30T14:19:07.349Z | 2024-08-30T14:19:07.349Z |       1       |   The old iphone 10 pro max   | The new era begins and stay alwasy new |    770.0     |     False     |\n",
      "| core_product.product | 2  | 530bbd82-c106-4e6d-85fa-929ef06d5f9d | 2024-08-30T14:24:23.492Z | 2024-08-31T11:41:21.677Z |       2       |             Huawei            |      The best cellphone in China       |    200.0     |      True     |\n",
      "| core_product.product | 3  | fda09111-33fc-43e1-9b49-79064224e090 | 2024-08-30T14:24:54.678Z | 2024-08-30T14:24:54.678Z |       2       |    Samsung Galaxy s23 Ultra   | The new era begins and stay alwasy new |    770.0     |     False     |\n",
      "| core_product.product | 4  | 49d405cb-33cd-4edd-b899-80b3335af7c7 | 2024-08-31T11:38:19.492Z | 2024-08-31T11:38:19.492Z |       2       |    Samsung Galaxy s22 Ultra   | The new era begins and stay alwasy new |    770.0     |     False     |\n",
      "| core_product.product | 5  | df20f553-9a6e-467d-bf5d-5882ab05ac4a | 2024-09-01T10:31:38.495Z | 2024-09-01T10:31:38.495Z |       3       | Lenovo Thinkpad X1 Carbon 9th | The new laptop era begins stay with us |    1200.0    |     False     |\n",
      "+----------------------+----+--------------------------------------+--------------------------+--------------------------+---------------+-------------------------------+----------------------------------------+--------------+---------------+\n"
     ]
    }
   ]
  },
  {
   "cell_type": "code",
   "source": [
    "# Upload file\n",
    "reviews_df = pd.read_csv('/content/drive/MyDrive/recommendation_system/data/reviews.csv')\n",
    "\n",
    "# Read file\n",
    "pretty_table = dataframe_to_prettytable(reviews_df.head())\n",
    "print(pretty_table)"
   ],
   "metadata": {
    "colab": {
     "base_uri": "https://localhost:8080/"
    },
    "id": "dDTHlnKnEVNw",
    "outputId": "df3d1fb3-b3df-414b-add2-d8fab88a558d"
   },
   "execution_count": 7,
   "outputs": [
    {
     "output_type": "stream",
     "name": "stdout",
     "text": [
      "+---------------------+----+--------------------------------------+--------------------------+--------------------------+----------------+---------------+---------------+---------------------------------------------------------------------------------------------------------+---------------+\n",
      "|        model        | pk |           fields_public_id           |      fields_created      |      fields_updated      | fields_product | fields_author | fields_rating |                                              fields_comment                                             | fields_edited |\n",
      "+---------------------+----+--------------------------------------+--------------------------+--------------------------+----------------+---------------+---------------+---------------------------------------------------------------------------------------------------------+---------------+\n",
      "| core_reviews.review | 1  | 1335c84a-33d9-40c1-9fd8-bfdd0af6d838 | 2024-08-31T12:38:24.693Z | 2024-08-31T12:38:24.693Z |       2        |       1       |       0       |                                 I will have a purchase during the 5 days                                |     False     |\n",
      "| core_reviews.review | 3  | a56eaa79-ca4d-4b33-bf47-79c615ec08d0 | 2024-09-01T10:33:46.865Z | 2024-09-01T10:33:46.866Z |       2        |       3       |       5       |                                      The best thin i ve ever seen.                                      |     False     |\n",
      "| core_reviews.review | 4  | 2e2e9499-7455-4983-8e98-72e1fdb71bd4 | 2024-09-01T10:55:25.963Z | 2024-09-01T10:55:25.963Z |       6        |       4       |       5       |                                              Great product!                                             |     False     |\n",
      "| core_reviews.review | 5  | f742a023-c2d6-4689-b1df-9f45eafadef9 | 2024-09-01T10:55:25.964Z | 2024-09-01T10:55:25.964Z |       7        |       5       |       4       |                                       Very good, but a bit pricey.                                      |     False     |\n",
      "| core_reviews.review | 6  | 0c424704-f6e9-428a-9de6-bbce43f658a2 | 2024-09-01T11:10:30.105Z | 2024-09-01T11:10:30.105Z |       50       |       46      |       4       | Four crime down former majority. Senior time finish staff product. Summer official no age hand defense. |     False     |\n",
      "|                     |    |                                      |                          |                          |                |               |               |           Which break Congress argue foot seek somebody. Would save southern green find know.           |               |\n",
      "+---------------------+----+--------------------------------------+--------------------------+--------------------------+----------------+---------------+---------------+---------------------------------------------------------------------------------------------------------+---------------+\n"
     ]
    }
   ]
  },
  {
   "cell_type": "code",
   "source": [
    "# Display the columns of each DataFrame\n",
    "print(\"Users DataFrame columns:\")\n",
    "print(users_df.columns.tolist())\n"
   ],
   "metadata": {
    "id": "VmFuplfvEd1a",
    "colab": {
     "base_uri": "https://localhost:8080/"
    },
    "outputId": "b6a398b6-3db3-453e-e3d2-b037b60f94ca"
   },
   "execution_count": null,
   "outputs": [
    {
     "output_type": "stream",
     "name": "stdout",
     "text": [
      "Users DataFrame columns:\n",
      "['model', 'pk', 'fields.password', 'fields.last_login', 'fields.public_id', 'fields.username', 'fields.first_name', 'fields.last_name', 'fields.email', 'fields.is_active', 'fields.is_staff', 'fields.is_superuser', 'fields.created', 'fields.updated', 'fields.groups', 'fields.user_permissions']\n"
     ]
    }
   ]
  },
  {
   "cell_type": "code",
   "source": [
    "print(\"\\nProducts DataFrame columns:\")\n",
    "print(products_df.columns.tolist())"
   ],
   "metadata": {
    "colab": {
     "base_uri": "https://localhost:8080/"
    },
    "id": "M1sz-2kznnaj",
    "outputId": "c1f4824c-dc4c-4c48-d05b-d8da515cfd9c"
   },
   "execution_count": null,
   "outputs": [
    {
     "output_type": "stream",
     "name": "stdout",
     "text": [
      "\n",
      "Products DataFrame columns:\n",
      "['model', 'pk', 'fields.public_id', 'fields.created', 'fields.updated', 'fields.author', 'fields.name', 'fields.description', 'fields.price', 'fields.edited']\n"
     ]
    }
   ]
  },
  {
   "cell_type": "code",
   "source": [
    "print(\"\\nReviews DataFrame columns:\")\n",
    "print(reviews_df.columns.tolist())"
   ],
   "metadata": {
    "colab": {
     "base_uri": "https://localhost:8080/"
    },
    "id": "SfxdLiSHn9N3",
    "outputId": "628d1b34-a9de-471c-9ec9-efcc455176fa"
   },
   "execution_count": null,
   "outputs": [
    {
     "output_type": "stream",
     "name": "stdout",
     "text": [
      "\n",
      "Reviews DataFrame columns:\n",
      "['model', 'pk', 'fields_public_id', 'fields_created', 'fields_updated', 'fields_product', 'fields_author', 'fields_rating', 'fields_comment', 'fields_edited']\n"
     ]
    }
   ]
  },
  {
   "cell_type": "code",
   "source": [
    "# Rename columns for easier access\n",
    "products_df.rename(columns={\n",
    "    'fields_public_id': 'product_public_id',\n",
    "    'fields_created': 'product_created',\n",
    "    'fields_updated': 'product_updated',\n",
    "    'fields_author': 'product_author_id',\n",
    "    'fields_name': 'product_name',\n",
    "    'fields_description': 'product_description',\n",
    "    'fields_price': 'product_price',\n",
    "    'fields_edited': 'product_edited'\n",
    "}, inplace=True)\n",
    "\n",
    "reviews_df.rename(columns={\n",
    "    'fields_public_id': 'review_public_id',\n",
    "    'fields_created': 'review_created',\n",
    "    'fields_updated': 'review_updated',\n",
    "    'fields_product': 'product_id',\n",
    "    'fields_author': 'author_id',\n",
    "    'fields_rating': 'review_rating',\n",
    "    'fields_comment': 'review_comment',\n",
    "    'fields_edited': 'review_edited'\n",
    "}, inplace=True)\n",
    "\n",
    "users_df.rename(columns={\n",
    "    'fields_public_id': 'user_public_id',\n",
    "    'fields_username': 'user_username',\n",
    "    'fields_first_name': 'user_first_name',\n",
    "    'fields_last_name': 'user_last_name',\n",
    "    'fields_email': 'user_email',\n",
    "    'fields_is_active': 'user_is_active',\n",
    "    'fields_is_staff': 'user_is_staff',\n",
    "    'fields_is_superuser': 'user_is_superuser',\n",
    "    'fields_created': 'user_created',\n",
    "    'fields_updated': 'user_updated'\n",
    "}, inplace=True)"
   ],
   "metadata": {
    "id": "6UfF0l-Co_tW"
   },
   "execution_count": 8,
   "outputs": []
  },
  {
   "cell_type": "code",
   "source": [
    "# Check columns and data types\n",
    "print(\"Reviews columns:\", reviews_df.columns)\n",
    "print(\"Products columns:\", products_df.columns)\n",
    "print(\"Users columns:\", users_df.columns)\n",
    "\n",
    "print(\"Reviews author_id type:\", reviews_df['author_id'].dtype)\n",
    "print(\"Users pk type:\", users_df['pk'].dtype)"
   ],
   "metadata": {
    "colab": {
     "base_uri": "https://localhost:8080/"
    },
    "id": "fSgzqkghpAuI",
    "outputId": "695ebaa7-708f-44d5-c4c7-3c71d7b3fb80"
   },
   "execution_count": 9,
   "outputs": [
    {
     "output_type": "stream",
     "name": "stdout",
     "text": [
      "Reviews columns: Index(['model', 'pk', 'review_public_id', 'review_created', 'review_updated',\n",
      "       'product_id', 'author_id', 'review_rating', 'review_comment',\n",
      "       'review_edited'],\n",
      "      dtype='object')\n",
      "Products columns: Index(['model', 'pk', 'fields.public_id', 'fields.created', 'fields.updated',\n",
      "       'fields.author', 'fields.name', 'fields.description', 'fields.price',\n",
      "       'fields.edited'],\n",
      "      dtype='object')\n",
      "Users columns: Index(['model', 'pk', 'fields.password', 'fields.last_login',\n",
      "       'fields.public_id', 'fields.username', 'fields.first_name',\n",
      "       'fields.last_name', 'fields.email', 'fields.is_active',\n",
      "       'fields.is_staff', 'fields.is_superuser', 'fields.created',\n",
      "       'fields.updated', 'fields.groups', 'fields.user_permissions'],\n",
      "      dtype='object')\n",
      "Reviews author_id type: int64\n",
      "Users pk type: int64\n"
     ]
    }
   ]
  },
  {
   "cell_type": "code",
   "source": [
    "# Merge reviews with products\n",
    "reviews_with_products = reviews_df.merge(products_df, left_on='product_id', right_on='pk', suffixes=('_review', '_product'))\n",
    "\n",
    "# Ensure type consistency for merging\n",
    "reviews_with_products['author_id'] = reviews_with_products['author_id'].astype(int)\n",
    "users_df['pk'] = users_df['pk'].astype(int)\n",
    "\n",
    "# Merge with users\n",
    "reviews_with_details = reviews_with_products.merge(users_df, left_on='author_id', right_on='pk', suffixes=('_product', '_user'))\n"
   ],
   "metadata": {
    "id": "2Q0kMzTfpjp9"
   },
   "execution_count": 10,
   "outputs": []
  },
  {
   "cell_type": "code",
   "source": [
    "# Display the merged DataFrame\n",
    "pretty_table = dataframe_to_prettytable(reviews_with_details.head())\n",
    "print(pretty_table)"
   ],
   "metadata": {
    "colab": {
     "base_uri": "https://localhost:8080/"
    },
    "id": "Q7JI_Sj3teIU",
    "outputId": "cdc0c3d0-201e-4cb4-899f-9180a0999201"
   },
   "execution_count": null,
   "outputs": [
    {
     "output_type": "stream",
     "name": "stdout",
     "text": [
      "+---------------------+-----------+--------------------------------------+--------------------------+--------------------------+------------+-----------+---------------+---------------------------------------------------------------------------------------------------------+---------------+----------------------+------------+--------------------------------------+--------------------------+--------------------------+---------------+------------------+-----------------------------------------------------------------------------------------------------------------------------------------------------------------------------------------------------+--------------+---------------+----------------+----+------------------------------------------------------------------------------------------+-------------------+--------------------------------------+-----------------+-------------------+------------------+---------------------------+------------------+-----------------+---------------------+--------------------------+--------------------------+---------------+-------------------------+\n",
      "|     model_review    | pk_review |           review_public_id           |      review_created      |      review_updated      | product_id | author_id | review_rating |                                              review_comment                                             | review_edited |    model_product     | pk_product |       fields.public_id_product       |  fields.created_product  |  fields.updated_product  | fields.author |   fields.name    |                                                                                          fields.description                                                                                         | fields.price | fields.edited |     model      | pk |                                     fields.password                                      | fields.last_login |        fields.public_id_user         | fields.username | fields.first_name | fields.last_name |        fields.email       | fields.is_active | fields.is_staff | fields.is_superuser |   fields.created_user    |   fields.updated_user    | fields.groups | fields.user_permissions |\n",
      "+---------------------+-----------+--------------------------------------+--------------------------+--------------------------+------------+-----------+---------------+---------------------------------------------------------------------------------------------------------+---------------+----------------------+------------+--------------------------------------+--------------------------+--------------------------+---------------+------------------+-----------------------------------------------------------------------------------------------------------------------------------------------------------------------------------------------------+--------------+---------------+----------------+----+------------------------------------------------------------------------------------------+-------------------+--------------------------------------+-----------------+-------------------+------------------+---------------------------+------------------+-----------------+---------------------+--------------------------+--------------------------+---------------+-------------------------+\n",
      "| core_reviews.review |     1     | 1335c84a-33d9-40c1-9fd8-bfdd0af6d838 | 2024-08-31T12:38:24.693Z | 2024-08-31T12:38:24.693Z |     2      |     1     |       0       |                                 I will have a purchase during the 5 days                                |     False     | core_product.product |     2      | 530bbd82-c106-4e6d-85fa-929ef06d5f9d | 2024-08-30T14:24:23.492Z | 2024-08-31T11:41:21.677Z |       2       |      Huawei      |                                                                                     The best cellphone in China                                                                                     |    200.0     |      True     | core_user.user | 1  | pbkdf2_sha256$870000$O0c8jmrH9PAQhghcJSCDIa$wIXQsoPRQ4/AJAeRxARC//24S2XrFrsn58Oi0BAlNDY= |        nan        | 04501d42-c480-447a-816a-401d2c5a4e44 |       test      |        nan        |       nan        |       test@test.com       |       True       |       True      |         True        | 2024-08-30T14:17:30.584Z | 2024-08-30T14:17:30.592Z |       []      |            []           |\n",
      "| core_reviews.review |     3     | a56eaa79-ca4d-4b33-bf47-79c615ec08d0 | 2024-09-01T10:33:46.865Z | 2024-09-01T10:33:46.866Z |     2      |     3     |       5       |                                      The best thin i ve ever seen.                                      |     False     | core_product.product |     2      | 530bbd82-c106-4e6d-85fa-929ef06d5f9d | 2024-08-30T14:24:23.492Z | 2024-08-31T11:41:21.677Z |       2       |      Huawei      |                                                                                     The best cellphone in China                                                                                     |    200.0     |      True     | core_user.user | 3  | pbkdf2_sha256$870000$1fy61bNiZP4AqbPsEcVW6X$9g8U2qbuzWwpXDYavRZs/ApNUY2GR7sUTW9qXcPLmb4= |        nan        | a722c9ea-db8e-4497-a382-ebc8ed68f62f | atabekdemurtaza |       Atabek      |    Murtazaev     | atabekdemurtaza@gmail.com |       True       |      False      |        False        | 2024-09-01T10:30:02.614Z | 2024-09-01T10:30:02.614Z |       []      |            []           |\n",
      "| core_reviews.review |     4     | 2e2e9499-7455-4983-8e98-72e1fdb71bd4 | 2024-09-01T10:55:25.963Z | 2024-09-01T10:55:25.963Z |     6      |     4     |       5       |                                              Great product!                                             |     False     | core_product.product |     6      | 3e2892a7-9e00-4fb6-a099-0858c73b1e05 | 2024-09-01T10:55:25.961Z | 2024-09-01T10:55:25.961Z |       4       |   Asus Ryzen X   |                                                                                             Gamer laptop                                                                                            |   1099.99    |     False     | core_user.user | 4  | pbkdf2_sha256$870000$87tkz6FVYPNStyyWLI6vXS$91UWc9/va3Mzh72eOAYKXPCX3hr2ifGqGOof1XpOdls= |        nan        | abda807b-88f9-4ffa-8a1d-a91f8470b9c0 |     sherzad     |        nan        |       nan        | sherzadyuldashev@test.com |       True       |      False      |        False        | 2024-09-01T10:55:25.697Z | 2024-09-01T10:55:25.697Z |       []      |            []           |\n",
      "| core_reviews.review |     5     | f742a023-c2d6-4689-b1df-9f45eafadef9 | 2024-09-01T10:55:25.964Z | 2024-09-01T10:55:25.964Z |     7      |     5     |       4       |                                       Very good, but a bit pricey.                                      |     False     | core_product.product |     7      | fb45efd9-e689-4013-8b1f-31ffde6b0da0 | 2024-09-01T10:55:25.962Z | 2024-09-01T10:55:25.962Z |       5       |   Macbook Pro    |                                                                               The coolest laptop ever with metal skin                                                                               |   1599.99    |     False     | core_user.user | 5  | pbkdf2_sha256$870000$vPzOqAWrA1jRQwZhbpVJRE$uSoJwoUuEWfgvAwdDSfO93NOuaecKFDyU7G8JzjiJ1I= |        nan        | 84214d71-4446-431f-9059-f3e19ef9d958 |      anvar      |        nan        |       nan        |       anvar@test.com      |       True       |      False      |        False        | 2024-09-01T10:55:25.954Z | 2024-09-01T10:55:25.954Z |       []      |            []           |\n",
      "| core_reviews.review |     6     | 0c424704-f6e9-428a-9de6-bbce43f658a2 | 2024-09-01T11:10:30.105Z | 2024-09-01T11:10:30.105Z |     50     |     46    |       4       | Four crime down former majority. Senior time finish staff product. Summer official no age hand defense. |     False     | core_product.product |     50     | 66f45996-222d-4030-8b50-9d976a3b4cb2 | 2024-09-01T11:10:30.098Z | 2024-09-01T11:10:30.098Z |       30      | Helen Sims serve | Line total leave section example protect. Long color people thought during simple. Information employee according never raise require after other. Agency management pretty ball early draw player. |    69.99     |     False     | core_user.user | 46 | pbkdf2_sha256$870000$9YrkBzbNeqUyDIwOPOULlY$39L+f+vHm/X/pG7vvNc660IaTxm+YOny0WvQAZb7Fy8= |        nan        | 8f50d29c-2f4d-4147-ab92-cbcc0d717546 |    reyesjohn    |       Cindy       |      Wright      | matthewsbrian@example.net |       True       |      False      |        False        | 2024-09-01T11:10:27.996Z | 2024-09-01T11:10:27.996Z |       []      |            []           |\n",
      "|                     |           |                                      |                          |                          |            |           |               |           Which break Congress argue foot seek somebody. Would save southern green find know.           |               |                      |            |                                      |                          |                          |               |                  |                                                                                                                                                                                                     |              |               |                |    |                                                                                          |                   |                                      |                 |                   |                  |                           |                  |                 |                     |                          |                          |               |                         |\n",
      "+---------------------+-----------+--------------------------------------+--------------------------+--------------------------+------------+-----------+---------------+---------------------------------------------------------------------------------------------------------+---------------+----------------------+------------+--------------------------------------+--------------------------+--------------------------+---------------+------------------+-----------------------------------------------------------------------------------------------------------------------------------------------------------------------------------------------------+--------------+---------------+----------------+----+------------------------------------------------------------------------------------------+-------------------+--------------------------------------+-----------------+-------------------+------------------+---------------------------+------------------+-----------------+---------------------+--------------------------+--------------------------+---------------+-------------------------+\n"
     ]
    }
   ]
  },
  {
   "cell_type": "code",
   "source": [
    "# Load spaCy tokenizer\n",
    "nlp = spacy.load('en_core_web_sm')"
   ],
   "metadata": {
    "id": "bbKhAu6HuXW0"
   },
   "execution_count": 11,
   "outputs": []
  },
  {
   "cell_type": "code",
   "source": [
    "# Apply tokenization to review comments\n",
    "reviews_with_details['tokens'] = reviews_with_details['review_comment'].apply(lambda x: [token.text for token in nlp(x)])"
   ],
   "metadata": {
    "id": "bn_PvxV0xzQz"
   },
   "execution_count": 12,
   "outputs": []
  },
  {
   "cell_type": "code",
   "source": [
    "# Display the first few rows with tokens\n",
    "pretty_table = dataframe_to_prettytable(reviews_with_details[['review_comment', 'tokens']].head())\n",
    "print(pretty_table)"
   ],
   "metadata": {
    "colab": {
     "base_uri": "https://localhost:8080/"
    },
    "id": "aQaB2BEIx2Cl",
    "outputId": "ad1ab49d-a2fb-45a3-8ae8-fcd9262361cb"
   },
   "execution_count": 13,
   "outputs": [
    {
     "output_type": "stream",
     "name": "stdout",
     "text": [
      "+---------------------------------------------------------------------------------------------------------+---------------------------------------------------------------------------------------------------------------------------------------------------------------------------------------------------------------------------------------------------------------------------------------------------------------+\n",
      "|                                              review_comment                                             |                                                                                                                                                     tokens                                                                                                                                                    |\n",
      "+---------------------------------------------------------------------------------------------------------+---------------------------------------------------------------------------------------------------------------------------------------------------------------------------------------------------------------------------------------------------------------------------------------------------------------+\n",
      "|                                 I will have a purchase during the 5 days                                |                                                                                                                      ['I', 'will', 'have', 'a', 'purchase', 'during', 'the', '5', 'days']                                                                                                                     |\n",
      "|                                      The best thin i ve ever seen.                                      |                                                                                                                            ['The', 'best', 'thin', 'i', 've', 'ever', 'seen', '.']                                                                                                                            |\n",
      "|                                              Great product!                                             |                                                                                                                                           ['Great', 'product', '!']                                                                                                                                           |\n",
      "|                                       Very good, but a bit pricey.                                      |                                                                                                                            ['Very', 'good', ',', 'but', 'a', 'bit', 'pricey', '.']                                                                                                                            |\n",
      "| Four crime down former majority. Senior time finish staff product. Summer official no age hand defense. | ['Four', 'crime', 'down', 'former', 'majority', '.', 'Senior', 'time', 'finish', 'staff', 'product', '.', 'Summer', 'official', 'no', 'age', 'hand', 'defense', '.', '\\n', 'Which', 'break', 'Congress', 'argue', 'foot', 'seek', 'somebody', '.', 'Would', 'save', 'southern', 'green', 'find', 'know', '.'] |\n",
      "|           Which break Congress argue foot seek somebody. Would save southern green find know.           |                                                                                                                                                                                                                                                                                                               |\n",
      "+---------------------------------------------------------------------------------------------------------+---------------------------------------------------------------------------------------------------------------------------------------------------------------------------------------------------------------------------------------------------------------------------------------------------------------+\n"
     ]
    }
   ]
  },
  {
   "cell_type": "code",
   "source": [
    "nltk.download('stopwords')"
   ],
   "metadata": {
    "colab": {
     "base_uri": "https://localhost:8080/"
    },
    "id": "zSt_mx-Xya3w",
    "outputId": "06ad6824-24a5-4b25-acfe-59b00772d0d7"
   },
   "execution_count": 14,
   "outputs": [
    {
     "output_type": "stream",
     "name": "stderr",
     "text": [
      "[nltk_data] Downloading package stopwords to /root/nltk_data...\n",
      "[nltk_data]   Unzipping corpora/stopwords.zip.\n"
     ]
    },
    {
     "output_type": "execute_result",
     "data": {
      "text/plain": [
       "True"
      ]
     },
     "metadata": {},
     "execution_count": 14
    }
   ]
  },
  {
   "cell_type": "code",
   "source": [
    "# Define stop words\n",
    "stop_words = set(stopwords.words('english'))"
   ],
   "metadata": {
    "id": "xDCRBTTV0MKp"
   },
   "execution_count": 15,
   "outputs": []
  },
  {
   "cell_type": "code",
   "source": [
    "# Apply stop-word removal to tokens\n",
    "def remove_stop_words(tokens):\n",
    "    return [word for word in tokens if word.lower() not in stop_words]\n",
    "\n",
    "reviews_with_details['filtered_tokens'] = reviews_with_details['tokens'].apply(remove_stop_words)"
   ],
   "metadata": {
    "id": "8N6Y0R7C1Hdl"
   },
   "execution_count": 16,
   "outputs": []
  },
  {
   "cell_type": "code",
   "source": [
    "# Display the first few rows with filtered tokens\n",
    "pretty_table = dataframe_to_prettytable(reviews_with_details[['review_comment', 'tokens', 'filtered_tokens']].head())\n",
    "print(pretty_table)"
   ],
   "metadata": {
    "colab": {
     "base_uri": "https://localhost:8080/"
    },
    "id": "JVnH3V3g1J6q",
    "outputId": "896d4d3f-bcc6-4b47-b8d6-da73300f9c4e"
   },
   "execution_count": 17,
   "outputs": [
    {
     "output_type": "stream",
     "name": "stdout",
     "text": [
      "+---------------------------------------------------------------------------------------------------------+---------------------------------------------------------------------------------------------------------------------------------------------------------------------------------------------------------------------------------------------------------------------------------------------------------------+----------------------------------------------------------------------------------------------------------------------------------------------------------------------------------------------------------------------------------------------------------------------------------------+\n",
      "|                                              review_comment                                             |                                                                                                                                                     tokens                                                                                                                                                    |                                                                                                                                    filtered_tokens                                                                                                                                     |\n",
      "+---------------------------------------------------------------------------------------------------------+---------------------------------------------------------------------------------------------------------------------------------------------------------------------------------------------------------------------------------------------------------------------------------------------------------------+----------------------------------------------------------------------------------------------------------------------------------------------------------------------------------------------------------------------------------------------------------------------------------------+\n",
      "|                                 I will have a purchase during the 5 days                                |                                                                                                                      ['I', 'will', 'have', 'a', 'purchase', 'during', 'the', '5', 'days']                                                                                                                     |                                                                                                                               ['purchase', '5', 'days']                                                                                                                                |\n",
      "|                                      The best thin i ve ever seen.                                      |                                                                                                                            ['The', 'best', 'thin', 'i', 've', 'ever', 'seen', '.']                                                                                                                            |                                                                                                                         ['best', 'thin', 'ever', 'seen', '.']                                                                                                                          |\n",
      "|                                              Great product!                                             |                                                                                                                                           ['Great', 'product', '!']                                                                                                                                           |                                                                                                                               ['Great', 'product', '!']                                                                                                                                |\n",
      "|                                       Very good, but a bit pricey.                                      |                                                                                                                            ['Very', 'good', ',', 'but', 'a', 'bit', 'pricey', '.']                                                                                                                            |                                                                                                                          ['good', ',', 'bit', 'pricey', '.']                                                                                                                           |\n",
      "| Four crime down former majority. Senior time finish staff product. Summer official no age hand defense. | ['Four', 'crime', 'down', 'former', 'majority', '.', 'Senior', 'time', 'finish', 'staff', 'product', '.', 'Summer', 'official', 'no', 'age', 'hand', 'defense', '.', '\\n', 'Which', 'break', 'Congress', 'argue', 'foot', 'seek', 'somebody', '.', 'Would', 'save', 'southern', 'green', 'find', 'know', '.'] | ['Four', 'crime', 'former', 'majority', '.', 'Senior', 'time', 'finish', 'staff', 'product', '.', 'Summer', 'official', 'age', 'hand', 'defense', '.', '\\n', 'break', 'Congress', 'argue', 'foot', 'seek', 'somebody', '.', 'Would', 'save', 'southern', 'green', 'find', 'know', '.'] |\n",
      "|           Which break Congress argue foot seek somebody. Would save southern green find know.           |                                                                                                                                                                                                                                                                                                               |                                                                                                                                                                                                                                                                                        |\n",
      "+---------------------------------------------------------------------------------------------------------+---------------------------------------------------------------------------------------------------------------------------------------------------------------------------------------------------------------------------------------------------------------------------------------------------------------+----------------------------------------------------------------------------------------------------------------------------------------------------------------------------------------------------------------------------------------------------------------------------------------+\n"
     ]
    }
   ]
  },
  {
   "cell_type": "code",
   "source": [
    "# Function to perform lemmatization\n",
    "def lemmatize_tokens(tokens):\n",
    "    doc = nlp(\" \".join(tokens))  # Convert list of tokens back to a string\n",
    "    return [token.lemma_ for token in doc if token.lemma_ not in stop_words and not token.is_punct]"
   ],
   "metadata": {
    "id": "1imvKojT1MFe"
   },
   "execution_count": 18,
   "outputs": []
  },
  {
   "cell_type": "code",
   "source": [
    "# Apply lemmatization\n",
    "reviews_with_details['filtered_tokens'] = reviews_with_details['tokens'].apply(lambda x: lemmatize_tokens(x))"
   ],
   "metadata": {
    "id": "alPjvDNV4HCc"
   },
   "execution_count": 19,
   "outputs": []
  },
  {
   "cell_type": "code",
   "source": [
    "# Display the table\n",
    "pretty_table = dataframe_to_prettytable(reviews_with_details[['review_comment', 'tokens', 'filtered_tokens']].head())\n",
    "print(pretty_table)"
   ],
   "metadata": {
    "colab": {
     "base_uri": "https://localhost:8080/"
    },
    "id": "9wGID7AM4Ta8",
    "outputId": "f5b92bcc-1372-4d03-b517-457f9f66c787"
   },
   "execution_count": 20,
   "outputs": [
    {
     "output_type": "stream",
     "name": "stdout",
     "text": [
      "+---------------------------------------------------------------------------------------------------------+---------------------------------------------------------------------------------------------------------------------------------------------------------------------------------------------------------------------------------------------------------------------------------------------------------------+----------------------------------------------------------------------------------------------------------------------------------------------------------------------------------------------------------------------------------------------------------------+\n",
      "|                                              review_comment                                             |                                                                                                                                                     tokens                                                                                                                                                    |                                                                                                                        filtered_tokens                                                                                                                         |\n",
      "+---------------------------------------------------------------------------------------------------------+---------------------------------------------------------------------------------------------------------------------------------------------------------------------------------------------------------------------------------------------------------------------------------------------------------------+----------------------------------------------------------------------------------------------------------------------------------------------------------------------------------------------------------------------------------------------------------------+\n",
      "|                                 I will have a purchase during the 5 days                                |                                                                                                                      ['I', 'will', 'have', 'a', 'purchase', 'during', 'the', '5', 'days']                                                                                                                     |                                                                                                                 ['I', 'purchase', '5', 'day']                                                                                                                  |\n",
      "|                                      The best thin i ve ever seen.                                      |                                                                                                                            ['The', 'best', 'thin', 'i', 've', 'ever', 'seen', '.']                                                                                                                            |                                                                                                              ['good', 'thin', 'I', 'ever', 'see']                                                                                                              |\n",
      "|                                              Great product!                                             |                                                                                                                                           ['Great', 'product', '!']                                                                                                                                           |                                                                                                                      ['great', 'product']                                                                                                                      |\n",
      "|                                       Very good, but a bit pricey.                                      |                                                                                                                            ['Very', 'good', ',', 'but', 'a', 'bit', 'pricey', '.']                                                                                                                            |                                                                                                                   ['good', 'bit', 'pricey']                                                                                                                    |\n",
      "| Four crime down former majority. Senior time finish staff product. Summer official no age hand defense. | ['Four', 'crime', 'down', 'former', 'majority', '.', 'Senior', 'time', 'finish', 'staff', 'product', '.', 'Summer', 'official', 'no', 'age', 'hand', 'defense', '.', '\\n', 'Which', 'break', 'Congress', 'argue', 'foot', 'seek', 'somebody', '.', 'Would', 'save', 'southern', 'green', 'find', 'know', '.'] | ['four', 'crime', 'former', 'majority', 'senior', 'time', 'finish', 'staff', 'product', 'summer', 'official', 'age', 'hand', 'defense', '\\n ', 'break', 'Congress', 'argue', 'foot', 'seek', 'somebody', 'would', 'save', 'southern', 'green', 'find', 'know'] |\n",
      "|           Which break Congress argue foot seek somebody. Would save southern green find know.           |                                                                                                                                                                                                                                                                                                               |                                                                                                                                                                                                                                                                |\n",
      "+---------------------------------------------------------------------------------------------------------+---------------------------------------------------------------------------------------------------------------------------------------------------------------------------------------------------------------------------------------------------------------------------------------------------------------+----------------------------------------------------------------------------------------------------------------------------------------------------------------------------------------------------------------------------------------------------------------+\n"
     ]
    }
   ]
  },
  {
   "cell_type": "code",
   "source": [
    "from sklearn.feature_extraction.text import TfidfVectorizer\n",
    "\n",
    "# Combine filtered tokens back into strings for vectorization\n",
    "reviews_with_details['filtered_text'] = reviews_with_details['filtered_tokens'].apply(lambda x: ' '.join(x))\n",
    "\n",
    "# Text vectorization using TF-IDF\n",
    "vectorizer = TfidfVectorizer()\n",
    "tfidf_matrix = vectorizer.fit_transform(reviews_with_details['filtered_text'])\n",
    "\n",
    "# Display the shape of the TF-IDF matrix\n",
    "print(\"TF-IDF Matrix Shape:\", tfidf_matrix.shape)"
   ],
   "metadata": {
    "colab": {
     "base_uri": "https://localhost:8080/"
    },
    "id": "YKlMjpjNUUXD",
    "outputId": "89421523-ee74-44eb-9f81-b1d727654e1c"
   },
   "execution_count": 21,
   "outputs": [
    {
     "output_type": "stream",
     "name": "stdout",
     "text": [
      "TF-IDF Matrix Shape: (54, 610)\n"
     ]
    }
   ]
  },
  {
   "cell_type": "code",
   "source": [
    "from sklearn.metrics.pairwise import cosine_similarity\n",
    "\n",
    "# Calculate cosine similarity between the TF-IDF vectors\n",
    "similarity_matrix = cosine_similarity(tfidf_matrix)\n",
    "\n",
    "# Display the shape of the similarity matrix\n",
    "print(\"Cosine Similarity Matrix Shape:\", similarity_matrix.shape)\n",
    "\n",
    "# display the first few rows of the similarity matrix to understand the structure\n",
    "print(similarity_matrix[:5, :5])  # Displaying a 5x5 slice of the matrix"
   ],
   "metadata": {
    "colab": {
     "base_uri": "https://localhost:8080/"
    },
    "id": "nJ-vtXrCUVL3",
    "outputId": "039fdacd-edee-47b6-d89f-c01b85c67e03"
   },
   "execution_count": 22,
   "outputs": [
    {
     "output_type": "stream",
     "name": "stdout",
     "text": [
      "Cosine Similarity Matrix Shape: (54, 54)\n",
      "[[1.         0.         0.         0.         0.        ]\n",
      " [0.         1.         0.         0.18950698 0.        ]\n",
      " [0.         0.         1.         0.         0.12958234]\n",
      " [0.         0.18950698 0.         1.         0.        ]\n",
      " [0.         0.         0.12958234 0.         1.        ]]\n"
     ]
    }
   ]
  },
  {
   "cell_type": "code",
   "source": [
    "from sklearn.linear_model import LogisticRegression\n",
    "from sklearn.model_selection import GridSearchCV, train_test_split\n",
    "from sklearn.metrics import precision_score, recall_score, f1_score, mean_squared_error, mean_absolute_error\n",
    "from imblearn.over_sampling import SMOTE\n",
    "from sklearn.utils import resample\n",
    "\n",
    "# Separate majority and minority classes\n",
    "df_majority = reviews_with_details[reviews_with_details['review_rating'] == 5]  # The class with the most samples\n",
    "df_minority_1 = reviews_with_details[reviews_with_details['review_rating'] == 0]\n",
    "df_minority_2 = reviews_with_details[reviews_with_details['review_rating'] == 4]\n",
    "df_minority_3 = reviews_with_details[reviews_with_details['review_rating'] == 2]\n",
    "df_minority_4 = reviews_with_details[reviews_with_details['review_rating'] == 3]\n",
    "df_minority_5 = reviews_with_details[reviews_with_details['review_rating'] == 1]\n",
    "\n",
    "# Upsample the minority classes\n",
    "df_minority_1_upsampled = resample(df_minority_1, replace=True, n_samples=len(df_majority), random_state=42)\n",
    "df_minority_2_upsampled = resample(df_minority_2, replace=True, n_samples=len(df_majority), random_state=42)\n",
    "df_minority_3_upsampled = resample(df_minority_3, replace=True, n_samples=len(df_majority), random_state=42)\n",
    "df_minority_4_upsampled = resample(df_minority_4, replace=True, n_samples=len(df_majority), random_state=42)\n",
    "df_minority_5_upsampled = resample(df_minority_5, replace=True, n_samples=len(df_majority), random_state=42)\n",
    "\n",
    "# Combine majority class with upsampled minority classes\n",
    "reviews_balanced = pd.concat([df_majority, df_minority_1_upsampled, df_minority_2_upsampled,\n",
    "                              df_minority_3_upsampled, df_minority_4_upsampled, df_minority_5_upsampled])\n",
    "\n",
    "# Define X (features) and y (target)\n",
    "X = tfidf_matrix[reviews_balanced.index]\n",
    "y = reviews_balanced['review_rating']\n",
    "\n",
    "# Split the data into training and test sets\n",
    "X_train, X_test, y_train, y_test = train_test_split(X, y, test_size=0.2, random_state=42, stratify=y)\n",
    "\n",
    "# Use SMOTE for data balancing\n",
    "smote = SMOTE(random_state=42)\n",
    "X_train_smote, y_train_smote = smote.fit_resample(X_train, y_train)\n",
    "\n",
    "# Define parameter grid for GridSearchCV\n",
    "param_grid = {\n",
    "    'C': [0.1, 1, 10, 100],       # Regularization parameter\n",
    "    'solver': ['liblinear', 'lbfgs', 'sag', 'saga']  # Optimization algorithms\n",
    "}\n",
    "\n",
    "# Initialize logistic regression model\n",
    "log_reg = LogisticRegression(max_iter=1000, random_state=42)\n",
    "\n",
    "# Initialize GridSearchCV\n",
    "grid_search = GridSearchCV(log_reg, param_grid, cv=5, scoring='f1_macro', n_jobs=-1)\n",
    "\n",
    "# Train GridSearchCV on the balanced data\n",
    "grid_search.fit(X_train_smote, y_train_smote)\n",
    "\n",
    "# Output the best hyperparameters\n",
    "print(\"Best Hyperparameters:\", grid_search.best_params_)\n",
    "\n",
    "# Use the best model for predictions on the test set\n",
    "best_log_reg = grid_search.best_estimator_\n",
    "y_pred = best_log_reg.predict(X_test)\n",
    "\n",
    "# Evaluate the model\n",
    "precision = precision_score(y_test, y_pred, average='macro', zero_division=1)\n",
    "recall = recall_score(y_test, y_pred, average='macro', zero_division=1)\n",
    "f1 = f1_score(y_test, y_pred, average='macro', zero_division=1)\n",
    "rmse = mean_squared_error(y_test, y_pred, squared=False)\n",
    "mae = mean_absolute_error(y_test, y_pred)\n",
    "\n",
    "# Output the evaluation results\n",
    "print(f\"Precision: {precision}\")\n",
    "print(f\"Recall: {recall}\")\n",
    "print(f\"F1-Score: {f1}\")\n",
    "print(f\"RMSE: {rmse}\")\n",
    "print(f\"MAE: {mae}\")"
   ],
   "metadata": {
    "colab": {
     "base_uri": "https://localhost:8080/"
    },
    "id": "zNVZCScec9wx",
    "outputId": "f1669cc8-16f7-43cb-e14f-06b663070f05"
   },
   "execution_count": 23,
   "outputs": [
    {
     "output_type": "stream",
     "name": "stdout",
     "text": [
      "Best Hyperparameters: {'C': 10, 'solver': 'sag'}\n",
      "Precision: 0.9583333333333334\n",
      "Recall: 0.9444444444444445\n",
      "F1-Score: 0.942857142857143\n",
      "RMSE: 0.8944271909999159\n",
      "MAE: 0.2\n"
     ]
    }
   ]
  },
  {
   "cell_type": "code",
   "source": [
    "import matplotlib.pyplot as plt\n",
    "import seaborn as sns\n",
    "\n",
    "# Create a dictionary with the metrics\n",
    "metrics = {\n",
    "    'Precision': precision,\n",
    "    'Recall': recall,\n",
    "    'F1-Score': f1,\n",
    "    'RMSE': rmse,\n",
    "    'MAE': mae\n",
    "}\n",
    "\n",
    "# Convert the dictionary into a list of tuples for easier plotting\n",
    "metric_names = list(metrics.keys())\n",
    "metric_values = list(metrics.values())\n",
    "\n",
    "# Set up the bar plot\n",
    "plt.figure(figsize=(10, 6))\n",
    "sns.barplot(x=metric_names, y=metric_values, palette=\"Blues_d\")\n",
    "\n",
    "# Add titles and labels\n",
    "plt.title('Model Evaluation Metrics', fontsize=16)\n",
    "plt.xlabel('Metric', fontsize=14)\n",
    "plt.ylabel('Score', fontsize=14)\n",
    "\n",
    "# Show the exact metric values on top of the bars\n",
    "for index, value in enumerate(metric_values):\n",
    "    plt.text(index, value + 0.02, f'{value:.2f}', ha='center', fontsize=12)\n",
    "\n",
    "# Show the plot\n",
    "plt.show()"
   ],
   "metadata": {
    "colab": {
     "base_uri": "https://localhost:8080/",
     "height": 678
    },
    "id": "Td1SMxzqXAlI",
    "outputId": "57b1b905-d8e9-45a5-a2a6-db58635df192"
   },
   "execution_count": 24,
   "outputs": [
    {
     "output_type": "stream",
     "name": "stderr",
     "text": [
      "<ipython-input-24-83226fb42e3d>:19: FutureWarning: \n",
      "\n",
      "Passing `palette` without assigning `hue` is deprecated and will be removed in v0.14.0. Assign the `x` variable to `hue` and set `legend=False` for the same effect.\n",
      "\n",
      "  sns.barplot(x=metric_names, y=metric_values, palette=\"Blues_d\")\n"
     ]
    },
    {
     "output_type": "display_data",
     "data": {
      "text/plain": [
       "<Figure size 1000x600 with 1 Axes>"
      ],
      "image/png": "[encoded data removed]"
     },
     "metadata": {}
    }
   ]
  },
  {
   "cell_type": "code",
   "source": [
    "import joblib\n",
    "\n",
    "# Save the trained model to the recommendation_system folder\n",
    "joblib.dump(best_log_reg, '/content/drive/MyDrive/recommendation_system/logistic_regression_model.pkl')\n",
    "\n",
    "# Save the TF-IDF vectorizer to the recommendation_system folder\n",
    "joblib.dump(vectorizer, '/content/drive/MyDrive/recommendation_system/tfidf_vectorizer.pkl')\n",
    "\n",
    "print(\"Model and TF-IDF vectorizer saved successfully in the recommendation_system folder.\")"
   ],
   "metadata": {
    "id": "IiLYKzWYY7e-",
    "colab": {
     "base_uri": "https://localhost:8080/"
    },
    "outputId": "f49a2697-49de-4796-f907-2693b535ffa4"
   },
   "execution_count": null,
   "outputs": [
    {
     "output_type": "stream",
     "name": "stdout",
     "text": [
      "Model and TF-IDF vectorizer saved successfully in the recommendation_system folder.\n"
     ]
    }
   ]
  },
  {
   "cell_type": "code",
   "source": [],
   "metadata": {
    "id": "wxVew8xueMUn"
   },
   "execution_count": null,
   "outputs": []
  }
 ]
}
